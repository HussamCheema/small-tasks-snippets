{
 "cells": [
  {
   "cell_type": "markdown",
   "metadata": {},
   "source": [
    "# Count Total Labels and Native Labels of Each Class\n",
    "\n",
    "You are provided with a directory named `Models`. You have to write a code, that counts lables (available in variable self.classes of each .py file). And also count the lables containing native words.\n",
    "\n",
    "Expected output format:\n",
    "\n",
    "```\n",
    "{\n",
    "    \"1st_pyfilename\": {\"total\":10,\"native\":4},\n",
    "    \"2nd_pyfilename\": {\"total\":17,\"native\":0},\n",
    "    \"3rd_pyfilename\": {\"total\":8,\"native\":2},\n",
    "    \"4th_pyfilename\": {\"total\":11,\"native\":0},\n",
    "    .\n",
    "    .\n",
    "    .\n",
    "    .\n",
    "    \"last_pyfilename\": {\"total\":13,\"native\":0}\n",
    "}\n",
    "```"
   ]
  },
  {
   "cell_type": "markdown",
   "metadata": {},
   "source": [
    "# YOUR CODE"
   ]
  },
  {
   "cell_type": "code",
   "execution_count": 10,
   "metadata": {},
   "outputs": [],
   "source": [
    "from glob import glob\n",
    "import re\n",
    "import importlib.util\n",
    "import os\n",
    "import sys\n",
    "import re"
   ]
  },
  {
   "cell_type": "code",
   "execution_count": 11,
   "metadata": {},
   "outputs": [],
   "source": [
    "models_lst = glob(\"./Models/*.py\")"
   ]
  },
  {
   "cell_type": "code",
   "execution_count": 12,
   "metadata": {},
   "outputs": [],
   "source": [
    "model_files = [i.split(\"/\")[-1].split(\".\")[0] for i in models_lst]"
   ]
  },
  {
   "cell_type": "code",
   "execution_count": 18,
   "metadata": {},
   "outputs": [
    {
     "name": "stdout",
     "output_type": "stream",
     "text": [
      "module 'ItlayOldIdCardFrontModel' has no attribute 'ItlayOldIdCardFrontModel'\n",
      "No module named 'arabic_reshaper'\n",
      "module 'UsKentuckyIDCardHorizontalModel' has no attribute 'UsKentuckyIDCardHorizontalModel'\n",
      "No module named 'hijri_converter'\n",
      "module 'Constants.mrcnn_weights_path' has no attribute 'canada_newfoundlandandlabrador_drivinglicense_design2_weights_path'\n",
      "cannot import name 'projects_constants' from 'Constants' (unknown location)\n",
      "cannot import name 'projects_constants' from 'Constants' (unknown location)\n",
      "No module named 'hijri_converter'\n",
      "cannot import name 'projects_constants' from 'Constants' (unknown location)\n",
      "module 'IndiaNoneAdharCardDesign3Model' has no attribute 'IndiaNoneAdharCardDesign3Model'\n",
      "module 'UsFloridaIdCardhorizontalType2Model' has no attribute 'UsFloridaIdCardhorizontalType2Model'\n",
      "No module named 'hijri_converter'\n",
      "module 'CyprusIdCardType2Model' has no attribute 'CyprusIdCardType2Model'\n",
      "No module named 'hijri_converter'\n",
      "No module named 'arabic_reshaper'\n",
      "cannot import name 'projects_constants' from 'Constants' (unknown location)\n",
      "cannot import name 'projects_constants' from 'Constants' (unknown location)\n",
      "module 'Constants.mrcnn_weights_path' has no attribute 'canada_newfoundlandandlabrador_drivinglicense_design1_weights_path'\n",
      "No module named 'hijri_converter'\n",
      "cannot import name 'projects_constants' from 'Constants' (unknown location)\n",
      "module 'USGeorgiaIdCardHorizontalType1Model' has no attribute 'USGeorgiaIdCardHorizontalType1Model'\n",
      "module 'AustraliaSouthDrivingLicense' has no attribute 'AustraliaSouthDrivingLicense'\n",
      "No module named 'hijri_converter'\n",
      "No module named 'arabic_reshaper'\n",
      "cannot import name 'projects_constants' from 'Constants' (unknown location)\n",
      "No module named 'hijri_converter'\n",
      "cannot import name 'projects_constants' from 'Constants' (unknown location)\n",
      "module 'RussiaDrivingLicense' has no attribute 'RussiaDrivingLicense'\n"
     ]
    }
   ],
   "source": [
    "dic = {}\n",
    "for ind in range(len(models_lst)):\n",
    "    try:\n",
    "        spec = importlib.util.spec_from_file_location(model_files[ind], models_lst[ind])\n",
    "        foo = importlib.util.module_from_spec(spec)\n",
    "        spec.loader.exec_module(foo)\n",
    "        myObj = getattr(foo, model_files[ind])\n",
    "        x = myObj()\n",
    "        native = 0\n",
    "\n",
    "        total = len(x.classes) - 1\n",
    "        for item in x.classes:\n",
    "            if \"native\" in item:\n",
    "                native += 1\n",
    "\n",
    "        dic[model_files[ind]] = {\"total\": total, \"native\": native}\n",
    "    except Exception as e:\n",
    "        print(e)"
   ]
  },
  {
   "cell_type": "code",
   "execution_count": 15,
   "metadata": {},
   "outputs": [
    {
     "data": {
      "text/plain": [
       "176"
      ]
     },
     "execution_count": 15,
     "metadata": {},
     "output_type": "execute_result"
    }
   ],
   "source": [
    "len([k for k,v in dic.items() if v[\"native\"]>0])"
   ]
  },
  {
   "cell_type": "code",
   "execution_count": 19,
   "metadata": {},
   "outputs": [],
   "source": [
    "import json"
   ]
  },
  {
   "cell_type": "code",
   "execution_count": 20,
   "metadata": {},
   "outputs": [],
   "source": [
    "with open(\"file.json\",\"w\") as file:\n",
    "    json.dump(dic,file)"
   ]
  },
  {
   "cell_type": "code",
   "execution_count": null,
   "metadata": {},
   "outputs": [],
   "source": []
  }
 ],
 "metadata": {
  "kernelspec": {
   "display_name": "Python 3",
   "language": "python",
   "name": "python3"
  },
  "language_info": {
   "codemirror_mode": {
    "name": "ipython",
    "version": 3
   },
   "file_extension": ".py",
   "mimetype": "text/x-python",
   "name": "python",
   "nbconvert_exporter": "python",
   "pygments_lexer": "ipython3",
   "version": "3.7.10"
  }
 },
 "nbformat": 4,
 "nbformat_minor": 4
}
