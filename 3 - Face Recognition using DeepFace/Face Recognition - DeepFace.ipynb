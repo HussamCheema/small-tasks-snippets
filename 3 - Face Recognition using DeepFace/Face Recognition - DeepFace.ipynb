{
 "cells": [
  {
   "cell_type": "code",
   "execution_count": 1,
   "id": "reflected-cradle",
   "metadata": {},
   "outputs": [],
   "source": [
    "from deepface import DeepFace\n",
    "from glob import glob"
   ]
  },
  {
   "cell_type": "code",
   "execution_count": 2,
   "id": "passive-enforcement",
   "metadata": {},
   "outputs": [],
   "source": [
    "model_name = \"Facenet\"\n",
    "results = {}\n",
    "model = DeepFace.build_model(model_name)"
   ]
  },
  {
   "cell_type": "code",
   "execution_count": 3,
   "id": "structured-barrel",
   "metadata": {},
   "outputs": [],
   "source": [
    "paths = glob(\"./images/*.jpg\")\n",
    "test_images_paths = [i for i in paths if \"test\" not in i]\n",
    "names = [i.split(\"/\")[2].split(\".\")[0] for i in test_images_paths]"
   ]
  },
  {
   "cell_type": "code",
   "execution_count": 4,
   "id": "accessory-mexican",
   "metadata": {},
   "outputs": [
    {
     "data": {
      "text/plain": [
       "{'biden': False,\n",
       " 'burak': False,\n",
       " 'imran': True,\n",
       " 'imran2': False,\n",
       " 'imran3': True,\n",
       " 'imran4': True,\n",
       " 'obama': False}"
      ]
     },
     "execution_count": 4,
     "metadata": {},
     "output_type": "execute_result"
    }
   ],
   "source": [
    "for ind, img in enumerate(test_images_paths):\n",
    "    res = DeepFace.verify(img, \"./images/test1.jpg\", model_name = model_name, model = model)\n",
    "    results[names[ind]] = res['verified']\n",
    "results"
   ]
  },
  {
   "cell_type": "code",
   "execution_count": null,
   "id": "fallen-parade",
   "metadata": {},
   "outputs": [],
   "source": []
  }
 ],
 "metadata": {
  "kernelspec": {
   "display_name": "Python 3",
   "language": "python",
   "name": "python3"
  },
  "language_info": {
   "codemirror_mode": {
    "name": "ipython",
    "version": 3
   },
   "file_extension": ".py",
   "mimetype": "text/x-python",
   "name": "python",
   "nbconvert_exporter": "python",
   "pygments_lexer": "ipython3",
   "version": "3.8.8"
  }
 },
 "nbformat": 4,
 "nbformat_minor": 5
}
