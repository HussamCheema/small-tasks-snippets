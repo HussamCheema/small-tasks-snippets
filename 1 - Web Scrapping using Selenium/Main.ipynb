{
 "cells": [
  {
   "cell_type": "code",
   "execution_count": 1,
   "metadata": {},
   "outputs": [],
   "source": [
    "from selenium import webdriver\n",
    "import pandas as pd"
   ]
  },
  {
   "cell_type": "code",
   "execution_count": 5,
   "metadata": {},
   "outputs": [],
   "source": [
    "driver = webdriver.Chrome('E:\\Softwares\\chromedriver_win32\\chromedriver.exe')"
   ]
  },
  {
   "cell_type": "code",
   "execution_count": 6,
   "metadata": {},
   "outputs": [],
   "source": [
    "driver.get('http://www.gutenberg.org/ebooks/search/%3Fsort_order%3Drelease_date')"
   ]
  },
  {
   "cell_type": "code",
   "execution_count": 8,
   "metadata": {},
   "outputs": [
    {
     "data": {
      "text/plain": [
       "25"
      ]
     },
     "execution_count": 8,
     "metadata": {},
     "output_type": "execute_result"
    }
   ],
   "source": [
    "books = driver.find_elements_by_class_name('booklink')\n",
    "len(books)"
   ]
  },
  {
   "cell_type": "code",
   "execution_count": 12,
   "metadata": {},
   "outputs": [
    {
     "name": "stdout",
     "output_type": "stream",
     "text": [
      "Galileo and his Judges\n",
      "F. R. Wegg-Prosser\n",
      "Jun 15, 2020\n"
     ]
    }
   ],
   "source": [
    "print(books[0].text)"
   ]
  },
  {
   "cell_type": "code",
   "execution_count": 11,
   "metadata": {},
   "outputs": [
    {
     "name": "stdout",
     "output_type": "stream",
     "text": [
      "Kelet tündér világa, vagy Szaif Züliázán szultán. (1. kötet) (Hungarian)\n",
      "Jun 12, 2020\n"
     ]
    }
   ],
   "source": [
    "print(books[-1].text)"
   ]
  },
  {
   "cell_type": "code",
   "execution_count": 14,
   "metadata": {},
   "outputs": [
    {
     "name": "stdout",
     "output_type": "stream",
     "text": [
      "Galileo and his Judges\n",
      "F. R. Wegg-Prosser\n",
      "Jun 15, 2020\n"
     ]
    }
   ],
   "source": [
    "name = books[0].find_elements_by_class_name('title')[0].text\n",
    "author = books[0].find_elements_by_class_name('subtitle')[0].text\n",
    "date = books[0].find_elements_by_class_name('extra')[0].text\n",
    "print(name)\n",
    "print(author)\n",
    "print(date)"
   ]
  },
  {
   "cell_type": "code",
   "execution_count": 16,
   "metadata": {},
   "outputs": [
    {
     "name": "stdout",
     "output_type": "stream",
     "text": [
      "Kelet tündér világa, vagy Szaif Züliázán szultán. (1. kötet) (Hungarian)\n",
      "F. R. Wegg-Prosser\n",
      "Jun 12, 2020\n"
     ]
    }
   ],
   "source": [
    "name = books[-1].find_elements_by_class_name('title')[0].text\n",
    "# author = books[-1].find_elements_by_class_name('subtitle')[0].text\n",
    "date = books[-1].find_elements_by_class_name('extra')[0].text\n",
    "print(name)\n",
    "print(author)\n",
    "print(date)"
   ]
  },
  {
   "cell_type": "code",
   "execution_count": 18,
   "metadata": {},
   "outputs": [
    {
     "name": "stdout",
     "output_type": "stream",
     "text": [
      "name: Galileo and his Judges\n",
      "author : F. R. Wegg-Prosser\n",
      "date : Jun 15, 2020\n",
      "____________________________________________________________________________________________________\n",
      "name: Mason's Norwich General and Commercial Directory & Handbook\n",
      "author : Robert Hindry Mason\n",
      "date : Jun 14, 2020\n",
      "____________________________________________________________________________________________________\n",
      "name: La Carrozza di tutti (Italian)\n",
      "author : Edmondo De Amicis\n",
      "date : Jun 14, 2020\n",
      "____________________________________________________________________________________________________\n",
      "name: Éloge du pet (French)\n",
      "author : Claude-François-Xavier Mercier de Compiègne\n",
      "date : Jun 14, 2020\n",
      "____________________________________________________________________________________________________\n",
      "name: A Trip to the Rockies\n",
      "author : B. R. Corwin\n",
      "date : Jun 14, 2020\n",
      "____________________________________________________________________________________________________\n"
     ]
    }
   ],
   "source": [
    "for book in books[:5]:\n",
    "    try:\n",
    "        name = book.find_elements_by_class_name('title')[0].text\n",
    "        try:\n",
    "            author = book.find_elements_by_class_name('subtitle')[0].text\n",
    "        except:\n",
    "            author = 'Not availbale'\n",
    "        try:\n",
    "            date = book.find_elements_by_class_name('extra')[0].text\n",
    "        except:\n",
    "            date = 'Not availbale'\n",
    "        print('name:', name)\n",
    "        print('author :', author)\n",
    "        print('date :', date)\n",
    "        print('_'*100)\n",
    "    except:\n",
    "        pass"
   ]
  },
  {
   "cell_type": "code",
   "execution_count": null,
   "metadata": {},
   "outputs": [],
   "source": []
  }
 ],
 "metadata": {
  "kernelspec": {
   "display_name": "Python 3.6.1 64-bit",
   "language": "python",
   "name": "python36164biteddb5945131e4a35a21d1f6554c5511d"
  },
  "language_info": {
   "codemirror_mode": {
    "name": "ipython",
    "version": 3
   },
   "file_extension": ".py",
   "mimetype": "text/x-python",
   "name": "python",
   "nbconvert_exporter": "python",
   "pygments_lexer": "ipython3",
   "version": "3.6.1"
  }
 },
 "nbformat": 4,
 "nbformat_minor": 2
}
